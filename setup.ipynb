{
  "cells": [
    {
      "cell_type": "markdown",
      "metadata": {
        "id": "ViCEHGOQnkb3"
      },
      "source": [
        "# Setup Notebook\n",
        "\n",
        "This notebook contains setup steps for:\n",
        "- Mounting Google Drive\n",
        "- Installing Python 3 and Python 2\n",
        "- Installing OCaml 3.07+2"
      ]
    },
    {
      "cell_type": "markdown",
      "metadata": {
        "id": "o07yIs-ynkb6"
      },
      "source": [
        "## Mount Google Drive"
      ]
    },
    {
      "cell_type": "code",
      "execution_count": 24,
      "metadata": {
        "colab": {
          "base_uri": "https://localhost:8080/"
        },
        "id": "RS-n0V4dnkb6",
        "outputId": "ccf8bd08-9472-4809-d74b-3b26afd47f13"
      },
      "outputs": [
        {
          "output_type": "stream",
          "name": "stdout",
          "text": [
            "Mounted at /content/drive\n"
          ]
        }
      ],
      "source": [
        "# Mount Google Drive\n",
        "from google.colab import drive\n",
        "drive.mount('/content/drive')"
      ]
    },
    {
      "cell_type": "markdown",
      "metadata": {
        "id": "37ciyAQ7nkb7"
      },
      "source": [
        "## Check and Install Python Versions"
      ]
    },
    {
      "cell_type": "code",
      "execution_count": 42,
      "metadata": {
        "colab": {
          "base_uri": "https://localhost:8080/"
        },
        "id": "aIvxLTJonkb7",
        "outputId": "7b04e982-f8fa-4dd0-ae4c-b75de7042f99"
      },
      "outputs": [
        {
          "output_type": "stream",
          "name": "stdout",
          "text": [
            "Python 3.11.12\n"
          ]
        }
      ],
      "source": [
        "# Check current Python 3 version\n",
        "!python3 --version"
      ]
    },
    {
      "cell_type": "code",
      "execution_count": 41,
      "metadata": {
        "collapsed": true,
        "colab": {
          "base_uri": "https://localhost:8080/"
        },
        "id": "bFkFzqnsnkb8",
        "outputId": "c2482a0e-6043-47ce-eb5a-0e20fa080921"
      },
      "outputs": [
        {
          "output_type": "stream",
          "name": "stdout",
          "text": [
            "\r0% [Working]\r            \rHit:1 https://developer.download.nvidia.com/compute/cuda/repos/ubuntu2204/x86_64  InRelease\n",
            "Hit:2 https://cloud.r-project.org/bin/linux/ubuntu jammy-cran40/ InRelease\n",
            "Get:3 http://security.ubuntu.com/ubuntu jammy-security InRelease [129 kB]\n",
            "Hit:4 http://archive.ubuntu.com/ubuntu jammy InRelease\n",
            "Get:5 http://archive.ubuntu.com/ubuntu jammy-updates InRelease [128 kB]\n",
            "Hit:6 https://r2u.stat.illinois.edu/ubuntu jammy InRelease\n",
            "Hit:7 https://ppa.launchpadcontent.net/deadsnakes/ppa/ubuntu jammy InRelease\n",
            "Hit:8 https://ppa.launchpadcontent.net/graphics-drivers/ppa/ubuntu jammy InRelease\n",
            "Hit:9 https://ppa.launchpadcontent.net/ubuntugis/ppa/ubuntu jammy InRelease\n",
            "Hit:10 http://archive.ubuntu.com/ubuntu jammy-backports InRelease\n",
            "Fetched 257 kB in 2s (111 kB/s)\n",
            "Reading package lists... Done\n",
            "W: Skipping acquire of configured file 'main/source/Sources' as repository 'https://r2u.stat.illinois.edu/ubuntu jammy InRelease' does not seem to provide it (sources.list entry misspelt?)\n",
            "Reading package lists... Done\n",
            "Building dependency tree... Done\n",
            "Reading state information... Done\n",
            "The following additional packages will be installed:\n",
            "  libpython2.7-minimal libpython2.7-stdlib python2.7-minimal\n",
            "Suggested packages:\n",
            "  python2.7-doc binfmt-support\n",
            "The following NEW packages will be installed:\n",
            "  libpython2.7-minimal libpython2.7-stdlib python2.7 python2.7-minimal\n",
            "0 upgraded, 4 newly installed, 0 to remove and 36 not upgraded.\n",
            "Need to get 3,974 kB of archives.\n",
            "After this operation, 16.0 MB of additional disk space will be used.\n",
            "Get:1 http://archive.ubuntu.com/ubuntu jammy-updates/universe amd64 libpython2.7-minimal amd64 2.7.18-13ubuntu1.5 [347 kB]\n",
            "Get:2 http://archive.ubuntu.com/ubuntu jammy-updates/universe amd64 python2.7-minimal amd64 2.7.18-13ubuntu1.5 [1,400 kB]\n",
            "Get:3 http://archive.ubuntu.com/ubuntu jammy-updates/universe amd64 libpython2.7-stdlib amd64 2.7.18-13ubuntu1.5 [1,977 kB]\n",
            "Get:4 http://archive.ubuntu.com/ubuntu jammy-updates/universe amd64 python2.7 amd64 2.7.18-13ubuntu1.5 [250 kB]\n",
            "Fetched 3,974 kB in 2s (1,639 kB/s)\n",
            "Selecting previously unselected package libpython2.7-minimal:amd64.\n",
            "(Reading database ... 129552 files and directories currently installed.)\n",
            "Preparing to unpack .../libpython2.7-minimal_2.7.18-13ubuntu1.5_amd64.deb ...\n",
            "Unpacking libpython2.7-minimal:amd64 (2.7.18-13ubuntu1.5) ...\n",
            "Selecting previously unselected package python2.7-minimal.\n",
            "Preparing to unpack .../python2.7-minimal_2.7.18-13ubuntu1.5_amd64.deb ...\n",
            "Unpacking python2.7-minimal (2.7.18-13ubuntu1.5) ...\n",
            "Selecting previously unselected package libpython2.7-stdlib:amd64.\n",
            "Preparing to unpack .../libpython2.7-stdlib_2.7.18-13ubuntu1.5_amd64.deb ...\n",
            "Unpacking libpython2.7-stdlib:amd64 (2.7.18-13ubuntu1.5) ...\n",
            "Selecting previously unselected package python2.7.\n",
            "Preparing to unpack .../python2.7_2.7.18-13ubuntu1.5_amd64.deb ...\n",
            "Unpacking python2.7 (2.7.18-13ubuntu1.5) ...\n",
            "Setting up libpython2.7-minimal:amd64 (2.7.18-13ubuntu1.5) ...\n",
            "Setting up python2.7-minimal (2.7.18-13ubuntu1.5) ...\n",
            "Setting up libpython2.7-stdlib:amd64 (2.7.18-13ubuntu1.5) ...\n",
            "Setting up python2.7 (2.7.18-13ubuntu1.5) ...\n",
            "Processing triggers for mailcap (3.70+nmu1ubuntu1) ...\n",
            "Processing triggers for man-db (2.10.2-1) ...\n",
            "Python 2.7.18\n"
          ]
        }
      ],
      "source": [
        "# Install Python 2\n",
        "!apt-get update\n",
        "!apt-get install -y python2.7\n",
        "!ln -s /usr/bin/python2.7 /usr/bin/python2\n",
        "\n",
        "# Verify Python 2 installation\n",
        "!python2 --version"
      ]
    },
    {
      "cell_type": "markdown",
      "metadata": {
        "id": "pxsEyL0Gnkb8"
      },
      "source": [
        "## Install OCaml 3.07+2"
      ]
    },
    {
      "cell_type": "code",
      "execution_count": 1,
      "metadata": {
        "collapsed": true,
        "colab": {
          "base_uri": "https://localhost:8080/"
        },
        "id": "q9xIOGm4nkb8",
        "outputId": "e9d528ce-d377-4c3b-9844-7ef51f8ea048"
      },
      "outputs": [
        {
          "output_type": "stream",
          "name": "stdout",
          "text": [
            "\r0% [Working]\r            \rGet:1 https://cloud.r-project.org/bin/linux/ubuntu jammy-cran40/ InRelease [3,632 B]\n",
            "Get:2 https://developer.download.nvidia.com/compute/cuda/repos/ubuntu2204/x86_64  InRelease [1,581 B]\n",
            "Hit:3 http://archive.ubuntu.com/ubuntu jammy InRelease\n",
            "Get:4 http://security.ubuntu.com/ubuntu jammy-security InRelease [129 kB]\n",
            "Get:5 https://developer.download.nvidia.com/compute/cuda/repos/ubuntu2204/x86_64  Packages [1,384 kB]\n",
            "Get:6 http://archive.ubuntu.com/ubuntu jammy-updates InRelease [128 kB]\n",
            "Get:7 https://r2u.stat.illinois.edu/ubuntu jammy InRelease [6,555 B]\n",
            "Hit:8 https://ppa.launchpadcontent.net/deadsnakes/ppa/ubuntu jammy InRelease\n",
            "Get:9 https://r2u.stat.illinois.edu/ubuntu jammy/main amd64 Packages [2,692 kB]\n",
            "Hit:10 https://ppa.launchpadcontent.net/graphics-drivers/ppa/ubuntu jammy InRelease\n",
            "Hit:11 http://archive.ubuntu.com/ubuntu jammy-backports InRelease\n",
            "Get:12 http://security.ubuntu.com/ubuntu jammy-security/main amd64 Packages [2,788 kB]\n",
            "Hit:13 https://ppa.launchpadcontent.net/ubuntugis/ppa/ubuntu jammy InRelease\n",
            "Get:14 http://archive.ubuntu.com/ubuntu jammy-updates/restricted amd64 Packages [4,246 kB]\n",
            "Get:15 http://security.ubuntu.com/ubuntu jammy-security/universe amd64 Packages [1,243 kB]\n",
            "Get:16 https://r2u.stat.illinois.edu/ubuntu jammy/main all Packages [8,832 kB]\n",
            "Get:17 http://archive.ubuntu.com/ubuntu jammy-updates/main amd64 Packages [3,140 kB]\n",
            "Get:18 http://archive.ubuntu.com/ubuntu jammy-updates/universe amd64 Packages [1,542 kB]\n",
            "Fetched 26.1 MB in 4s (6,295 kB/s)\n",
            "Reading package lists... Done\n",
            "W: Skipping acquire of configured file 'main/source/Sources' as repository 'https://r2u.stat.illinois.edu/ubuntu jammy InRelease' does not seem to provide it (sources.list entry misspelt?)\n",
            "Reading package lists... Done\n",
            "Building dependency tree... Done\n",
            "Reading state information... Done\n",
            "The following additional packages will be installed:\n",
            "  bubblewrap darcs ledit libamd2 libcolamd2 libglpk40 libsuitesparseconfig5\n",
            "  mercurial mercurial-common ocaml ocaml-base ocaml-compiler-libs ocaml-interp\n",
            "  ocaml-man opam-installer\n",
            "Suggested packages:\n",
            "  libiodbc2-dev kdiff3 | kdiff3-qt | kompare | meld | tkcvs | mgdiff qct\n",
            "  python3-mysqldb python3-openssl python3-pygments ocaml-doc elpa-tuareg\n",
            "  opam-doc\n",
            "The following NEW packages will be installed:\n",
            "  bubblewrap darcs ledit libamd2 libcolamd2 libglpk40 libsuitesparseconfig5\n",
            "  mercurial mercurial-common ocaml ocaml-base ocaml-compiler-libs ocaml-interp\n",
            "  ocaml-man opam opam-installer\n",
            "0 upgraded, 16 newly installed, 0 to remove and 36 not upgraded.\n",
            "Need to get 144 MB of archives.\n",
            "After this operation, 500 MB of additional disk space will be used.\n",
            "Get:1 http://archive.ubuntu.com/ubuntu jammy-updates/main amd64 bubblewrap amd64 0.6.1-1ubuntu0.1 [46.3 kB]\n",
            "Get:2 http://archive.ubuntu.com/ubuntu jammy/universe amd64 darcs amd64 2.14.5-1build1 [3,779 kB]\n",
            "Get:3 http://archive.ubuntu.com/ubuntu jammy/universe amd64 ocaml-base amd64 4.13.1-3ubuntu1 [589 kB]\n",
            "Get:4 http://archive.ubuntu.com/ubuntu jammy/universe amd64 ledit all 2.04-6build2 [59.0 kB]\n",
            "Get:5 http://archive.ubuntu.com/ubuntu jammy/main amd64 libsuitesparseconfig5 amd64 1:5.10.1+dfsg-4build1 [10.4 kB]\n",
            "Get:6 http://archive.ubuntu.com/ubuntu jammy/universe amd64 libamd2 amd64 1:5.10.1+dfsg-4build1 [21.6 kB]\n",
            "Get:7 http://archive.ubuntu.com/ubuntu jammy/main amd64 libcolamd2 amd64 1:5.10.1+dfsg-4build1 [18.0 kB]\n",
            "Get:8 http://archive.ubuntu.com/ubuntu jammy/universe amd64 libglpk40 amd64 5.0-1 [361 kB]\n",
            "Get:9 http://archive.ubuntu.com/ubuntu jammy/universe amd64 mercurial-common all 6.1.1-1ubuntu1 [2,906 kB]\n",
            "Get:10 http://archive.ubuntu.com/ubuntu jammy/universe amd64 mercurial amd64 6.1.1-1ubuntu1 [320 kB]\n",
            "Get:11 http://archive.ubuntu.com/ubuntu jammy/universe amd64 ocaml-compiler-libs amd64 4.13.1-3ubuntu1 [36.2 MB]\n",
            "Get:12 http://archive.ubuntu.com/ubuntu jammy/universe amd64 ocaml-interp amd64 4.13.1-3ubuntu1 [7,488 kB]\n",
            "Get:13 http://archive.ubuntu.com/ubuntu jammy/universe amd64 ocaml amd64 4.13.1-3ubuntu1 [87.7 MB]\n",
            "Get:14 http://archive.ubuntu.com/ubuntu jammy/universe amd64 ocaml-man all 4.13.1-3ubuntu1 [519 kB]\n",
            "Get:15 http://archive.ubuntu.com/ubuntu jammy/universe amd64 opam-installer amd64 2.1.2-1 [1,273 kB]\n",
            "Get:16 http://archive.ubuntu.com/ubuntu jammy/universe amd64 opam amd64 2.1.2-1 [2,578 kB]\n",
            "Fetched 144 MB in 8s (17.1 MB/s)\n",
            "Selecting previously unselected package bubblewrap.\n",
            "(Reading database ... 126332 files and directories currently installed.)\n",
            "Preparing to unpack .../00-bubblewrap_0.6.1-1ubuntu0.1_amd64.deb ...\n",
            "Unpacking bubblewrap (0.6.1-1ubuntu0.1) ...\n",
            "Selecting previously unselected package darcs.\n",
            "Preparing to unpack .../01-darcs_2.14.5-1build1_amd64.deb ...\n",
            "Unpacking darcs (2.14.5-1build1) ...\n",
            "Selecting previously unselected package ocaml-base.\n",
            "Preparing to unpack .../02-ocaml-base_4.13.1-3ubuntu1_amd64.deb ...\n",
            "Unpacking ocaml-base (4.13.1-3ubuntu1) ...\n",
            "Selecting previously unselected package ledit.\n",
            "Preparing to unpack .../03-ledit_2.04-6build2_all.deb ...\n",
            "Unpacking ledit (2.04-6build2) ...\n",
            "Selecting previously unselected package libsuitesparseconfig5:amd64.\n",
            "Preparing to unpack .../04-libsuitesparseconfig5_1%3a5.10.1+dfsg-4build1_amd64.deb ...\n",
            "Unpacking libsuitesparseconfig5:amd64 (1:5.10.1+dfsg-4build1) ...\n",
            "Selecting previously unselected package libamd2:amd64.\n",
            "Preparing to unpack .../05-libamd2_1%3a5.10.1+dfsg-4build1_amd64.deb ...\n",
            "Unpacking libamd2:amd64 (1:5.10.1+dfsg-4build1) ...\n",
            "Selecting previously unselected package libcolamd2:amd64.\n",
            "Preparing to unpack .../06-libcolamd2_1%3a5.10.1+dfsg-4build1_amd64.deb ...\n",
            "Unpacking libcolamd2:amd64 (1:5.10.1+dfsg-4build1) ...\n",
            "Selecting previously unselected package libglpk40:amd64.\n",
            "Preparing to unpack .../07-libglpk40_5.0-1_amd64.deb ...\n",
            "Unpacking libglpk40:amd64 (5.0-1) ...\n",
            "Selecting previously unselected package mercurial-common.\n",
            "Preparing to unpack .../08-mercurial-common_6.1.1-1ubuntu1_all.deb ...\n",
            "Unpacking mercurial-common (6.1.1-1ubuntu1) ...\n",
            "Selecting previously unselected package mercurial.\n",
            "Preparing to unpack .../09-mercurial_6.1.1-1ubuntu1_amd64.deb ...\n",
            "Unpacking mercurial (6.1.1-1ubuntu1) ...\n",
            "Selecting previously unselected package ocaml-compiler-libs.\n",
            "Preparing to unpack .../10-ocaml-compiler-libs_4.13.1-3ubuntu1_amd64.deb ...\n",
            "Unpacking ocaml-compiler-libs (4.13.1-3ubuntu1) ...\n",
            "Selecting previously unselected package ocaml-interp.\n",
            "Preparing to unpack .../11-ocaml-interp_4.13.1-3ubuntu1_amd64.deb ...\n",
            "Unpacking ocaml-interp (4.13.1-3ubuntu1) ...\n",
            "Selecting previously unselected package ocaml.\n",
            "Preparing to unpack .../12-ocaml_4.13.1-3ubuntu1_amd64.deb ...\n",
            "Unpacking ocaml (4.13.1-3ubuntu1) ...\n",
            "Selecting previously unselected package ocaml-man.\n",
            "Preparing to unpack .../13-ocaml-man_4.13.1-3ubuntu1_all.deb ...\n",
            "Unpacking ocaml-man (4.13.1-3ubuntu1) ...\n",
            "Selecting previously unselected package opam-installer.\n",
            "Preparing to unpack .../14-opam-installer_2.1.2-1_amd64.deb ...\n",
            "Unpacking opam-installer (2.1.2-1) ...\n",
            "Selecting previously unselected package opam.\n",
            "Preparing to unpack .../15-opam_2.1.2-1_amd64.deb ...\n",
            "Unpacking opam (2.1.2-1) ...\n",
            "Setting up bubblewrap (0.6.1-1ubuntu0.1) ...\n",
            "Setting up mercurial-common (6.1.1-1ubuntu1) ...\n",
            "Setting up darcs (2.14.5-1build1) ...\n",
            "Setting up ocaml-base (4.13.1-3ubuntu1) ...\n",
            "Setting up opam-installer (2.1.2-1) ...\n",
            "Setting up ocaml-man (4.13.1-3ubuntu1) ...\n",
            "Setting up libsuitesparseconfig5:amd64 (1:5.10.1+dfsg-4build1) ...\n",
            "Setting up libamd2:amd64 (1:5.10.1+dfsg-4build1) ...\n",
            "Setting up libcolamd2:amd64 (1:5.10.1+dfsg-4build1) ...\n",
            "Setting up mercurial (6.1.1-1ubuntu1) ...\n",
            "\n",
            "Creating config file /etc/mercurial/hgrc.d/hgext.rc with new version\n",
            "Setting up ledit (2.04-6build2) ...\n",
            "update-alternatives: using /usr/bin/ledit to provide /usr/bin/readline-editor (readline-editor) in auto mode\n",
            "Setting up libglpk40:amd64 (5.0-1) ...\n",
            "Setting up opam (2.1.2-1) ...\n",
            "Setting up ocaml-interp (4.13.1-3ubuntu1) ...\n",
            "Setting up ocaml (4.13.1-3ubuntu1) ...\n",
            "Setting up ocaml-compiler-libs (4.13.1-3ubuntu1) ...\n",
            "Processing triggers for libc-bin (2.35-0ubuntu3.8) ...\n",
            "/sbin/ldconfig.real: /usr/local/lib/libtbbbind.so.3 is not a symbolic link\n",
            "\n",
            "/sbin/ldconfig.real: /usr/local/lib/libtbb.so.12 is not a symbolic link\n",
            "\n",
            "/sbin/ldconfig.real: /usr/local/lib/libtcm_debug.so.1 is not a symbolic link\n",
            "\n",
            "/sbin/ldconfig.real: /usr/local/lib/libur_loader.so.0 is not a symbolic link\n",
            "\n",
            "/sbin/ldconfig.real: /usr/local/lib/libtbbbind_2_0.so.3 is not a symbolic link\n",
            "\n",
            "/sbin/ldconfig.real: /usr/local/lib/libtbbmalloc.so.2 is not a symbolic link\n",
            "\n",
            "/sbin/ldconfig.real: /usr/local/lib/libtbbbind_2_5.so.3 is not a symbolic link\n",
            "\n",
            "/sbin/ldconfig.real: /usr/local/lib/libur_adapter_level_zero.so.0 is not a symbolic link\n",
            "\n",
            "/sbin/ldconfig.real: /usr/local/lib/libhwloc.so.15 is not a symbolic link\n",
            "\n",
            "/sbin/ldconfig.real: /usr/local/lib/libtbbmalloc_proxy.so.2 is not a symbolic link\n",
            "\n",
            "/sbin/ldconfig.real: /usr/local/lib/libumf.so.0 is not a symbolic link\n",
            "\n",
            "/sbin/ldconfig.real: /usr/local/lib/libtcm.so.1 is not a symbolic link\n",
            "\n",
            "/sbin/ldconfig.real: /usr/local/lib/libur_adapter_opencl.so.0 is not a symbolic link\n",
            "\n",
            "Processing triggers for man-db (2.10.2-1) ...\n",
            "Processing triggers for mailcap (3.70+nmu1ubuntu1) ...\n",
            "\u001b[33m[WARNING]\u001b[0m Running as root is not recommended\n",
            "No configuration file found, using built-in defaults.\n",
            "Checking for available remotes: rsync and local, git, mercurial, darcs. Perfect!\n",
            "\u001b[31m[ERROR]\u001b[0m Sandboxing is not working on your platform ubuntu:\n",
            "        \"~/.opam/opam-init/hooks/sandbox.sh build sh -c echo SUCCESS\n",
            "        >$TMPDIR/opam-sandbox-check-out && cat $TMPDIR/opam-sandbox-check-out;\n",
            "        rm -f $TMPDIR/opam-sandbox-check-out\" exited with code 1 \"bwrap:\n",
            "        loopback: Failed RTM_NEWADDR: No child processes\"\n",
            "Do you want to disable it?  Note that this will result in less secure package\n",
            "builds, so please ensure that you have some other isolation mechanisms in place\n",
            "(such as running within a container or virtual machine). [y/N] y\n",
            "\n",
            "\u001b[36m<><>\u001b[0m \u001b[01mFetching repository information\u001b[0m \u001b[36m><><><><><><><><><><><><><><><><><><><><><>\u001b[0m\n",
            "\u001b[K[\u001b[32mdefault\u001b[0m] Initialised\n",
            "\u001b[01;32mdefault\u001b[0m (at \u001b[01mhttps://opam.ocaml.org\u001b[0m): \n",
            "    [WARNING] opam is out-of-date. Please consider updating it\n",
            "    (https://opam.ocaml.org/doc/Install.html)\n",
            "\n",
            "\u001b[K\n",
            "\u001b[36m<><>\u001b[0m \u001b[01mRequired setup - please read\u001b[0m \u001b[36m<><><><><><><><><><><><><><><><><><><><><><><>\u001b[0m\n",
            "\n",
            "  In normal operation, opam only alters files within ~/.opam.\n",
            "\n",
            "  However, to best integrate with your system, some environment variables\n",
            "  should be set. If you allow it to, this initialisation step will update\n",
            "  your \u001b[01mbash\u001b[0m configuration by adding the following line to \u001b[36m~/.profile\u001b[0m:\n",
            "\n",
            "    \u001b[01mtest -r /root/.opam/opam-init/init.sh && . /root/.opam/opam-init/init.sh > /dev/null 2> /dev/null || true\n",
            "\u001b[0m\n",
            "  Otherwise, every time you want to access your opam installation, you will\n",
            "  need to run:\n",
            "\n",
            "    \u001b[01meval $(opam env)\u001b[0m\n",
            "\n",
            "  You can always re-run this setup with 'opam init' later.\n",
            "\n",
            "\u001b[33m[WARNING]\u001b[0m Shell not updated in non-interactive mode: use --shell-setup\n",
            "\n",
            "\u001b[36m<><>\u001b[0m \u001b[01mCreating initial switch 'default' (invariant [\"ocaml\" {>= \"4.05.0\"}] - initially with ocaml-system)\u001b[0m \n",
            "\n",
            "\u001b[36m<><>\u001b[0m \u001b[01mInstalling new switch packages\u001b[0m \u001b[36m<><><><><><><><><><><><><><><><><><><><><><>\u001b[0m\n",
            "Switch invariant: [\"ocaml\" {>= \"4.05.0\"}]\n",
            "\n",
            "\u001b[36m<><>\u001b[0m \u001b[01mProcessing actions\u001b[0m \u001b[36m<><><><><><><><><><><><><><><><><><><><><><><><><><><><>\u001b[0m\n",
            "\u001b[K\u001b[32m∗\u001b[0m installed \u001b[01mbase-bigarray\u001b[0m.base\n",
            "\u001b[K\u001b[32m∗\u001b[0m installed \u001b[01mbase-threads\u001b[0m.base\n",
            "\u001b[K\u001b[32m∗\u001b[0m installed \u001b[01mbase-unix\u001b[0m.base\n",
            "\u001b[K\u001b[36m⬇\u001b[0m retrieved \u001b[01mocaml-system\u001b[0m.4.13.1  (https://opam.ocaml.org/cache)\n",
            "\u001b[K\u001b[32m∗\u001b[0m installed \u001b[01mocaml-system\u001b[0m.4.13.1\n",
            "\u001b[K\u001b[36m⬇\u001b[0m retrieved \u001b[01mocaml-config\u001b[0m.2  (2 extra sources)\n",
            "\u001b[32m∗\u001b[0m installed \u001b[01mocaml-config\u001b[0m.2\n",
            "\u001b[K\u001b[32m∗\u001b[0m installed \u001b[01mocaml\u001b[0m.4.13.1\n",
            "Done.\n",
            "# Run \u001b[01meval $(opam env --switch=default)\u001b[0m to update the current shell environment\n",
            "\u001b[33m[WARNING]\u001b[0m Running as root is not recommended\n",
            "\n",
            "\u001b[36m<><>\u001b[0m \u001b[01mInstalling new switch packages\u001b[0m \u001b[36m<><><><><><><><><><><><><><><><><><><><><><>\u001b[0m\n",
            "Switch invariant: [\"ocaml-base-compiler\" {= \"3.08.0\"} | \"ocaml-system\" {= \"3.08.0\"}]\n",
            "\n",
            "\u001b[36m<><>\u001b[0m \u001b[01mProcessing actions\u001b[0m \u001b[36m<><><><><><><><><><><><><><><><><><><><><><><><><><><><>\u001b[0m\n",
            "\u001b[K\u001b[32m∗\u001b[0m installed \u001b[01mbase-bigarray\u001b[0m.base\n",
            "\u001b[K\u001b[32m∗\u001b[0m installed \u001b[01mbase-threads\u001b[0m.base\n",
            "\u001b[K\u001b[32m∗\u001b[0m installed \u001b[01mbase-unix\u001b[0m.base\n",
            "\u001b[K\u001b[36m⬇\u001b[0m retrieved \u001b[01mocaml-config\u001b[0m.1  (2 extra sources)\n",
            "\u001b[K\u001b[36m⬇\u001b[0m retrieved \u001b[01mocaml-base-compiler\u001b[0m.3.08.0  (https://opam.ocaml.org/cache)\n",
            "\u001b[K\u001b[32m∗\u001b[0m installed \u001b[01mocaml-base-compiler\u001b[0m.3.08.0\n",
            "\u001b[32m∗\u001b[0m installed \u001b[01mocaml-config\u001b[0m.1\n",
            "\u001b[K\u001b[32m∗\u001b[0m installed \u001b[01mocaml\u001b[0m.3.08.0\n",
            "Done.\n",
            "\n",
            "\u001b[36m<><>\u001b[0m \u001b[01mocaml.3.08.0 installed successfully\u001b[0m \u001b[36m><><><><><><><><><><><><><><><><><><><>\u001b[0m\n",
            "\u001b[32m=> \u001b[0mThe main opam-repository has archived all packages that are not compatible\n",
            "   with OCaml 4.08. If you want to install those packages, you need to add the\n",
            "   archive repository: 'opam repository add archive\n",
            "   git+https://github.com/ocaml/opam-repository-archive' in this opam switch.\n",
            "# Run \u001b[01meval $(opam env --switch=3.08.0)\u001b[0m to update the current shell environment\n"
          ]
        }
      ],
      "source": [
        "# We need to build OCaml from source to get version 3.07+2\n",
        "!apt-get update && apt-get install -y opam\n",
        "!opam init -y\n",
        "!opam switch create 3.08.0"
      ]
    },
    {
      "cell_type": "code",
      "source": [
        "!git clone https://github.com/gathertown/Software-related-Slack-Chats-with-Disentangled-Conversations"
      ],
      "metadata": {
        "collapsed": true,
        "colab": {
          "base_uri": "https://localhost:8080/"
        },
        "id": "eb2D5hhErdBh",
        "outputId": "3def89e4-3e70-4c20-dfe1-1454e30da8d6"
      },
      "execution_count": 21,
      "outputs": [
        {
          "output_type": "stream",
          "name": "stdout",
          "text": [
            "Cloning into 'Software-related-Slack-Chats-with-Disentangled-Conversations'...\n",
            "remote: Enumerating objects: 169, done.\u001b[K\n",
            "remote: Counting objects: 100% (169/169), done.\u001b[K\n",
            "remote: Compressing objects: 100% (133/133), done.\u001b[K\n",
            "remote: Total 169 (delta 38), reused 156 (delta 30), pack-reused 0 (from 0)\u001b[K\n",
            "Receiving objects: 100% (169/169), 25.63 MiB | 14.25 MiB/s, done.\n",
            "Resolving deltas: 100% (38/38), done.\n"
          ]
        }
      ]
    },
    {
      "cell_type": "code",
      "source": [
        "%cd /content/Software-related-Slack-Chats-with-Disentangled-Conversations/scripts/disentanglement/elsner-charniak-08-mod\n",
        "!tar -xvf ./megam_src.tgz"
      ],
      "metadata": {
        "colab": {
          "base_uri": "https://localhost:8080/"
        },
        "id": "7nNyjb-OruZ0",
        "outputId": "91053068-5c8b-4730-ab73-4646e6f4f8ec"
      },
      "execution_count": 22,
      "outputs": [
        {
          "output_type": "stream",
          "name": "stdout",
          "text": [
            "/content/Software-related-Slack-Chats-with-Disentangled-Conversations/scripts/disentanglement/elsner-charniak-08-mod\n",
            "megam_0.92/Makefile\n",
            "megam_0.92/README\n",
            "megam_0.92/abffs.ml\n",
            "megam_0.92/adapt.ml\n",
            "megam_0.92/arry.ml\n",
            "megam_0.92/bfgs.ml\n",
            "megam_0.92/bitvec.ml\n",
            "megam_0.92/bns.ml\n",
            "megam_0.92/cGopt.ml\n",
            "megam_0.92/cg.ml\n",
            "megam_0.92/data.ml\n",
            "megam_0.92/extLog.ml\n",
            "megam_0.92/fastdot.ml\n",
            "megam_0.92/fastdot_c.c\n",
            "megam_0.92/intHashtbl.ml\n",
            "megam_0.92/kernelmap.ml\n",
            "megam_0.92/main.ml\n",
            "megam_0.92/megam.ml\n",
            "megam_0.92/pa.ml\n",
            "megam_0.92/perceptron.ml\n",
            "megam_0.92/quartic.ml\n",
            "megam_0.92/radapt.ml\n",
            "megam_0.92/util.ml\n",
            "megam_0.92/wsemlm.ml\n"
          ]
        }
      ]
    },
    {
      "cell_type": "code",
      "source": [
        "%cd /content/Software-related-Slack-Chats-with-Disentangled-Conversations/scripts/disentanglement/elsner-charniak-08-mod/megam_0.92/\n",
        "!opam env --switch=3.08.0\n",
        "# !sed -i 's/WITHSTR =str.cma -cclib -lstr/WITHSTR =str.cma -cclib -l:str.a/g' Makefile\n",
        "# !sed -i 's/WITHBIGARRAY =bigarray.cma -cclib -lbigarray/WITHBIGARRAY =bigarray.cma -cclib -l:bigarray.a/g' Makefile\n",
        "# NOTE ^ shouldn't be needed anymore, because we updated the Makefile in the .tgz\n",
        "!make"
      ],
      "metadata": {
        "colab": {
          "base_uri": "https://localhost:8080/"
        },
        "id": "pr6XsvoytVxO",
        "outputId": "ac9734b1-8cac-454c-dc8c-b996aa32cdab"
      },
      "execution_count": 23,
      "outputs": [
        {
          "output_type": "stream",
          "name": "stdout",
          "text": [
            "/content/Software-related-Slack-Chats-with-Disentangled-Conversations/scripts/disentanglement/elsner-charniak-08-mod/megam_0.92\n",
            "\u001b[33m[WARNING]\u001b[0m Running as root is not recommended\n",
            "OPAM_SWITCH_PREFIX='/root/.opam/3.08.0'; export OPAM_SWITCH_PREFIX;\n",
            "CAML_LD_LIBRARY_PATH='/root/.opam/3.08.0/lib/stublibs:/root/.opam/3.08.0/lib/ocaml/stublibs:/root/.opam/3.08.0/lib/ocaml'; export CAML_LD_LIBRARY_PATH;\n",
            "OCAML_TOPLEVEL_PATH='/root/.opam/3.08.0/lib/toplevel'; export OCAML_TOPLEVEL_PATH;\n",
            "MANPATH=':/root/.opam/3.08.0/man'; export MANPATH;\n",
            "PATH='/root/.opam/3.08.0/bin:/opt/bin:/usr/local/nvidia/bin:/usr/local/cuda/bin:/usr/local/sbin:/usr/local/bin:/usr/sbin:/usr/bin:/sbin:/bin:/tools/node/bin:/tools/google-cloud-sdk/bin'; export PATH;\n",
            "ocamldep *.mli *.ml > .depend\n"
          ]
        }
      ]
    },
    {
      "cell_type": "code",
      "source": [],
      "metadata": {
        "id": "ZCxA80YL13yJ"
      },
      "execution_count": null,
      "outputs": []
    },
    {
      "cell_type": "code",
      "source": [
        "%cd /content/Software-related-Slack-Chats-with-Disentangled-Conversations/scripts/disentanglement\n",
        "!find \"/content/drive/Shareddrives/AI Experiments/sources/slack_output/\" -type f > files.txt\n",
        "!cat files.txt | head -n 1\n",
        "\n",
        "!./run_disentanglement.sh \"$(cat files.txt | head -n 1)\""
      ],
      "metadata": {
        "colab": {
          "base_uri": "https://localhost:8080/"
        },
        "id": "7oL_-ABVvfB8",
        "outputId": "64388dde-fdf8-4d93-fa2c-ac1ca1f7edba"
      },
      "execution_count": 55,
      "outputs": [
        {
          "output_type": "stream",
          "name": "stdout",
          "text": [
            "/content/Software-related-Slack-Chats-with-Disentangled-Conversations/scripts/disentanglement\n",
            "/content/drive/Shareddrives/AI Experiments/sources/slack_output/ai-experiments-internal.xml\n",
            "*** slack-specific preprocessing (/content/drive/Shareddrives/AI Experiments/sources/slack_output/ai-experiments-internal.xml) into AI.pre\n",
            "usage: preprocessChat.py [-h] -o OUTPUTFILE -i INPUTFILE [--namesonly]\n",
            "preprocessChat.py: error: unrecognized arguments: Experiments/sources/slack_output/ai-experiments-internal.xml\n"
          ]
        }
      ]
    }
  ],
  "metadata": {
    "kernelspec": {
      "display_name": "Python 3",
      "language": "python",
      "name": "python3"
    },
    "language_info": {
      "codemirror_mode": {
        "name": "ipython",
        "version": 3
      },
      "file_extension": ".py",
      "mimetype": "text/x-python",
      "name": "python",
      "nbconvert_exporter": "python",
      "pygments_lexer": "ipython3",
      "version": "3.13.3"
    },
    "colab": {
      "provenance": []
    }
  },
  "nbformat": 4,
  "nbformat_minor": 0
}