{
 "cells": [
  {
   "cell_type": "markdown",
   "metadata": {},
   "source": [
    "# Setup Notebook\n",
    "\n",
    "This notebook contains setup steps for:\n",
    "- Mounting Google Drive\n",
    "- Installing Python 3 and Python 2\n",
    "- Installing OCaml 3.07+2"
   ]
  },
  {
   "cell_type": "markdown",
   "metadata": {},
   "source": [
    "## Mount Google Drive"
   ]
  },
  {
   "cell_type": "code",
   "execution_count": null,
   "metadata": {},
   "outputs": [],
   "source": [
    "# Mount Google Drive\n",
    "from google.colab import drive\n",
    "drive.mount('/content/drive')"
   ]
  },
  {
   "cell_type": "markdown",
   "metadata": {},
   "source": [
    "## Check and Install Python Versions"
   ]
  },
  {
   "cell_type": "code",
   "execution_count": null,
   "metadata": {},
   "outputs": [],
   "source": [
    "# Check current Python 3 version\n",
    "!python3 --version"
   ]
  },
  {
   "cell_type": "code",
   "execution_count": null,
   "metadata": {},
   "outputs": [],
   "source": [
    "# Install Python 2\n",
    "!apt-get update\n",
    "!apt-get install -y python2.7\n",
    "!ln -s /usr/bin/python2.7 /usr/bin/python2\n",
    "\n",
    "# Verify Python 2 installation\n",
    "!python2 --version"
   ]
  },
  {
   "cell_type": "markdown",
   "metadata": {},
   "source": [
    "## Install OCaml 3.07+2"
   ]
  },
  {
   "cell_type": "code",
   "execution_count": null,
   "metadata": {},
   "outputs": [],
   "source": [
    "# We need to build OCaml from source to get version 3.07+2\n",
    "!apt-get update && apt-get install -y build-essential curl\n",
    "\n",
    "# Create a directory for OCaml installation\n",
    "!mkdir -p /tmp/ocaml-install\n",
    "!cd /tmp/ocaml-install\n",
    "\n",
    "# Download OCaml 3.07+2\n",
    "!curl -L https://github.com/ocaml/ocaml/archive/refs/tags/3.07.tar.gz -o ocaml-3.07.tar.gz\n",
    "!tar -xzf ocaml-3.07.tar.gz\n",
    "!cd ocaml-ocaml-3.07\n",
    "\n",
    "# Configure and build\n",
    "!cd /tmp/ocaml-install/ocaml-ocaml-3.07 && ./configure && make world opt\n",
    "!cd /tmp/ocaml-install/ocaml-ocaml-3.07 && make install\n",
    "\n",
    "# Apply patch for 3.07+2 (may need additional research to implement correctly)\n",
    "# This is a placeholder for applying the specific patches needed for 3.07+2\n",
    "\n",
    "# Verify OCaml installation\n",
    "!ocaml -version"
   ]
  },
  {
   "cell_type": "markdown",
   "metadata": {},
   "source": [
    "## Setup Complete\n",
    "\n",
    "The environment should now have:\n",
    "- Google Drive mounted\n",
    "- Python 3 and Python 2 installed\n",
    "- OCaml 3.07+2 installed (or closest version possible from source)"
   ]
  }
 ],
 "metadata": {
  "kernelspec": {
   "display_name": "Python 3",
   "language": "python",
   "name": "python3"
  },
  "language_info": {
   "codemirror_mode": {
    "name": "ipython",
    "version": 3
   },
   "file_extension": ".py",
   "mimetype": "text/x-python",
   "name": "python",
   "nbconvert_exporter": "python",
   "pygments_lexer": "ipython3",
   "version": "3.13.3"
  }
 },
 "nbformat": 4,
 "nbformat_minor": 4
}
